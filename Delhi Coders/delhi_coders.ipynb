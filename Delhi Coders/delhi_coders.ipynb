{
 "cells": [
  {
   "cell_type": "markdown",
   "id": "1e37578a-2d42-43e9-bf80-c42343cd58d0",
   "metadata": {},
   "source": [
    "# Welcome to CodeBook – Your Data Science Internship Begins!\n",
    "\n",
    "### Introduction\n",
    "\n",
    "Congratulations! You have just been hired as a Data Scientist Intern at CodeBook – The Social Media for Coders. This Delhi-based company is offering you a ₹10 LPA job if you successfully complete this 1-month internship. But before you get there, you must prove your skills using only Python—no pandas, NumPy, or fancy libraries!\n",
    "\n",
    "Your manager Puneet Kumar has assigned you your first task: analyzing a data dump of CodeBook users using pure Python. Your job is to load and explore the data to understand its structure."
   ]
  },
  {
   "cell_type": "code",
   "execution_count": null,
   "id": "6b7cb20e",
   "metadata": {},
   "outputs": [],
   "source": [
    "# Let's write the function to load the data\n",
    "\n",
    "import json\n",
    "\n",
    "def load_data(filename):\n",
    "      with open(filename, \"r\") as f:\n",
    "            data = json.load(f)\n",
    "      return data"
   ]
  },
  {
   "cell_type": "code",
   "execution_count": null,
   "id": "c938052e-527a-494e-94bf-80edafd84d40",
   "metadata": {},
   "outputs": [],
   "source": [
    "data = load_data(\"file.json\")\n",
    "data"
   ]
  },
  {
   "cell_type": "code",
   "execution_count": null,
   "id": "6556b8e6-f016-4326-9f65-a59ba8fa57f6",
   "metadata": {},
   "outputs": [],
   "source": [
    "# Write a function to display users their connections\n",
    "\n",
    "def display_users(data):\n",
    "      \n",
    "      print(\"----------| Users and their Connections |----------\\n\")\n",
    "      for user in data['users']:\n",
    "            print(f\"ID{user['id']}: {user['name']} is friends with {user['friends']} and liked Pages are {user['liked_pages']}\")\n",
    "      \n",
    "      print(\"\\n\\n------------| Pages Informations |------------\\n\")\n",
    "      for page in data['pages']:\n",
    "            print(f\"{page['id']}: {page['name']}\")\n",
    "\n",
    "display_users(data)\n"
   ]
  },
  {
   "cell_type": "code",
   "execution_count": null,
   "id": "a316b510",
   "metadata": {},
   "outputs": [],
   "source": []
  },
  {
   "cell_type": "markdown",
   "id": "9f0a7e2e-925e-4280-a8ee-d1149aeef60d",
   "metadata": {},
   "source": [
    "# Cleaning and Structuring the Data\n",
    "\n",
    "## Introduction\n",
    "Your manager is impressed with your progress but points out that the data is messy. Before we can analyze it effectively, we need to clean and structure the data properly.\n",
    "\n",
    "Your task is to:\n",
    "\n",
    "    -Handle missing values\n",
    "    -Remove duplicate or inconsistent data\n",
    "    -Standardize the data format\n",
    "Let's get started!\n",
    "\n",
    "## Task 1: Identify Issues in the Data\n",
    "Your manager provides you with an example dataset where some records are incomplete or incorrect.\n",
    "\n",
    "### Problems:\n",
    "    -User ID 3 has an empty name.\n",
    "    -User ID 4 has a duplicate friend entry.\n",
    "    -User ID 5 has no connections or liked pages (inactive user).\n",
    "    -The pages list contains duplicate page IDs.\n",
    "\n",
    "## Task 2: Clean the Data\n",
    "We will:\n",
    "\n",
    "    -Remove users with missing names.\n",
    "    -Remove duplicate friend entries.\n",
    "    -Remove inactive users (users with no friends and no liked pages).\n",
    "    -Deduplicate pages based on IDs.\n",
    "\n",
    "## Next Steps\n",
    "Your manager is happy with the cleaned data and says: \"Great! Now that our data is structured, let's start analyzing it. You are an intern, but he is so confident in your skills that he asks you - Can you build a 'People You May Know' feature?\" Let's do that next!\n"
   ]
  },
  {
   "cell_type": "code",
   "execution_count": null,
   "id": "c18f2b5c-fac1-4f02-8191-623996317761",
   "metadata": {},
   "outputs": [],
   "source": []
  },
  {
   "cell_type": "markdown",
   "id": "7986b456-03d0-45e6-89c1-c9ec6cfc31dc",
   "metadata": {},
   "source": [
    "# Finding \"People You May Know\"\n",
    "\n",
    "Now that our data is cleaned and structured, your manager assigns you a new task: Build a 'People You May Know' feature!\n",
    "\n",
    "In social networks, this feature helps users connect with others by suggesting friends based on mutual connections. Your job is to analyze mutual friends and recommend potential connections.\n",
    "\n",
    "## Task 1: Understand the Logic\n",
    "### How 'People You May Know' Works:\n",
    "    -If User A and User B are not friends but have mutual friends, we suggest User B to User A and vice versa.\n",
    "    -More mutual friends = higher priority recommendation.\n",
    "    \n",
    "### Example:\n",
    "\n",
    "    -Amit (ID: 1) is friends with Priya (ID: 2) and Rahul (ID: 3).\n",
    "    -Priya (ID: 2) is friends with Sara (ID: 4).\n",
    "    -Amit is not directly friends with Sara, but they share Priya as a mutual friend.\n",
    "    -Suggest Sara to Amit as \"People You May Know\".\n",
    "But there are cases where we will have more than one \"People You May Know\". In those cases, greater the number of mutual friends, higher the probability that the user might know the person we are recommending.\n",
    "\n",
    "# Task 2: Implement the Algorithm\n",
    "We'll create a function that:\n",
    "\n",
    "    -Finds all friends of a given user.\n",
    "    -Identifies mutual friends between non-friends.\n",
    "    -Ranks recommendations by the number of mutual friends.\n",
    "\n",
    "## Next Steps\n",
    "Your manager is excited about your progress and now says: \"Great job! Next, find 'Pages You Might Like' based on your connections and preferences.\"\n",
    "\n",
    "Let's make sure we live up to his expectations."
   ]
  },
  {
   "cell_type": "code",
   "execution_count": null,
   "id": "6765450a-74cd-4c7d-81cc-97356677ce8f",
   "metadata": {},
   "outputs": [],
   "source": []
  }
 ],
 "metadata": {
  "kernelspec": {
   "display_name": "Python 3 (ipykernel)",
   "language": "python",
   "name": "python3"
  },
  "language_info": {
   "codemirror_mode": {
    "name": "ipython",
    "version": 3
   },
   "file_extension": ".py",
   "mimetype": "text/x-python",
   "name": "python",
   "nbconvert_exporter": "python",
   "pygments_lexer": "ipython3",
   "version": "3.12.7"
  }
 },
 "nbformat": 4,
 "nbformat_minor": 5
}
